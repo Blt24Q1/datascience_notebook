{
 "cells": [
  {
   "cell_type": "code",
   "execution_count": 1,
   "id": "ebb82bed",
   "metadata": {},
   "outputs": [
    {
     "name": "stdout",
     "output_type": "stream",
     "text": [
      "Collecting selenium\n",
      "  Using cached selenium-4.24.0-py3-none-any.whl (9.6 MB)\n",
      "Requirement already satisfied: trio~=0.17 in c:\\users\\201-00\\.conda\\envs\\himedia\\lib\\site-packages (from selenium) (0.26.2)\n",
      "Requirement already satisfied: trio-websocket~=0.9 in c:\\users\\201-00\\.conda\\envs\\himedia\\lib\\site-packages (from selenium) (0.11.1)\n",
      "Requirement already satisfied: certifi>=2021.10.8 in c:\\users\\201-00\\.conda\\envs\\himedia\\lib\\site-packages (from selenium) (2022.12.7)\n",
      "Requirement already satisfied: urllib3[socks]<3,>=1.26 in c:\\users\\201-00\\.conda\\envs\\himedia\\lib\\site-packages (from selenium) (1.26.14)\n",
      "Requirement already satisfied: typing_extensions~=4.9 in c:\\users\\201-00\\.conda\\envs\\himedia\\lib\\site-packages (from selenium) (4.12.2)\n",
      "Requirement already satisfied: websocket-client~=1.8 in c:\\users\\201-00\\.conda\\envs\\himedia\\lib\\site-packages (from selenium) (1.8.0)\n",
      "Requirement already satisfied: exceptiongroup in c:\\users\\201-00\\.conda\\envs\\himedia\\lib\\site-packages (from trio~=0.17->selenium) (1.2.2)\n",
      "Requirement already satisfied: outcome in c:\\users\\201-00\\.conda\\envs\\himedia\\lib\\site-packages (from trio~=0.17->selenium) (1.3.0.post0)\n",
      "Requirement already satisfied: sortedcontainers in c:\\users\\201-00\\.conda\\envs\\himedia\\lib\\site-packages (from trio~=0.17->selenium) (2.4.0)\n",
      "Requirement already satisfied: attrs>=23.2.0 in c:\\users\\201-00\\.conda\\envs\\himedia\\lib\\site-packages (from trio~=0.17->selenium) (24.2.0)\n",
      "Requirement already satisfied: sniffio>=1.3.0 in c:\\users\\201-00\\.conda\\envs\\himedia\\lib\\site-packages (from trio~=0.17->selenium) (1.3.1)\n",
      "Requirement already satisfied: idna in c:\\users\\201-00\\.conda\\envs\\himedia\\lib\\site-packages (from trio~=0.17->selenium) (3.4)\n",
      "Requirement already satisfied: cffi>=1.14 in c:\\users\\201-00\\.conda\\envs\\himedia\\lib\\site-packages (from trio~=0.17->selenium) (1.15.1)\n",
      "Requirement already satisfied: wsproto>=0.14 in c:\\users\\201-00\\.conda\\envs\\himedia\\lib\\site-packages (from trio-websocket~=0.9->selenium) (1.2.0)\n",
      "Requirement already satisfied: PySocks!=1.5.7,<2.0,>=1.5.6 in c:\\users\\201-00\\.conda\\envs\\himedia\\lib\\site-packages (from urllib3[socks]<3,>=1.26->selenium) (1.7.1)\n",
      "Requirement already satisfied: pycparser in c:\\users\\201-00\\.conda\\envs\\himedia\\lib\\site-packages (from cffi>=1.14->trio~=0.17->selenium) (2.21)\n",
      "Requirement already satisfied: h11<1,>=0.9.0 in c:\\users\\201-00\\.conda\\envs\\himedia\\lib\\site-packages (from wsproto>=0.14->trio-websocket~=0.9->selenium) (0.14.0)\n",
      "Installing collected packages: selenium\n",
      "Successfully installed selenium-4.24.0\n"
     ]
    },
    {
     "name": "stderr",
     "output_type": "stream",
     "text": [
      "WARNING: Ignoring invalid distribution -rotobuf (c:\\users\\201-00\\.conda\\envs\\himedia\\lib\\site-packages)\n",
      "WARNING: Ignoring invalid distribution -rotobuf (c:\\users\\201-00\\.conda\\envs\\himedia\\lib\\site-packages)\n",
      "WARNING: Ignoring invalid distribution -rotobuf (c:\\users\\201-00\\.conda\\envs\\himedia\\lib\\site-packages)\n",
      "WARNING: Ignoring invalid distribution -rotobuf (c:\\users\\201-00\\.conda\\envs\\himedia\\lib\\site-packages)\n",
      "WARNING: Ignoring invalid distribution -rotobuf (c:\\users\\201-00\\.conda\\envs\\himedia\\lib\\site-packages)\n",
      "WARNING: Ignoring invalid distribution -rotobuf (c:\\users\\201-00\\.conda\\envs\\himedia\\lib\\site-packages)\n",
      "WARNING: Ignoring invalid distribution -rotobuf (c:\\users\\201-00\\.conda\\envs\\himedia\\lib\\site-packages)\n"
     ]
    }
   ],
   "source": [
    "!pip install selenium"
   ]
  },
  {
   "cell_type": "code",
   "execution_count": 2,
   "id": "faa640fb",
   "metadata": {},
   "outputs": [
    {
     "name": "stdout",
     "output_type": "stream",
     "text": [
      "Collecting webdriver-manager\n",
      "  Using cached webdriver_manager-4.0.2-py2.py3-none-any.whl (27 kB)\n",
      "Requirement already satisfied: packaging in c:\\users\\201-00\\.conda\\envs\\himedia\\lib\\site-packages (from webdriver-manager) (22.0)\n",
      "Requirement already satisfied: python-dotenv in c:\\users\\201-00\\.conda\\envs\\himedia\\lib\\site-packages (from webdriver-manager) (1.0.1)\n",
      "Requirement already satisfied: requests in c:\\users\\201-00\\.conda\\envs\\himedia\\lib\\site-packages (from webdriver-manager) (2.28.1)\n",
      "Requirement already satisfied: certifi>=2017.4.17 in c:\\users\\201-00\\.conda\\envs\\himedia\\lib\\site-packages (from requests->webdriver-manager) (2022.12.7)\n",
      "Requirement already satisfied: idna<4,>=2.5 in c:\\users\\201-00\\.conda\\envs\\himedia\\lib\\site-packages (from requests->webdriver-manager) (3.4)\n",
      "Requirement already satisfied: urllib3<1.27,>=1.21.1 in c:\\users\\201-00\\.conda\\envs\\himedia\\lib\\site-packages (from requests->webdriver-manager) (1.26.14)\n",
      "Requirement already satisfied: charset-normalizer<3,>=2 in c:\\users\\201-00\\.conda\\envs\\himedia\\lib\\site-packages (from requests->webdriver-manager) (2.0.4)\n",
      "Installing collected packages: webdriver-manager\n",
      "Successfully installed webdriver-manager-4.0.2\n"
     ]
    },
    {
     "name": "stderr",
     "output_type": "stream",
     "text": [
      "WARNING: Ignoring invalid distribution -rotobuf (c:\\users\\201-00\\.conda\\envs\\himedia\\lib\\site-packages)\n",
      "WARNING: Ignoring invalid distribution -rotobuf (c:\\users\\201-00\\.conda\\envs\\himedia\\lib\\site-packages)\n",
      "WARNING: Ignoring invalid distribution -rotobuf (c:\\users\\201-00\\.conda\\envs\\himedia\\lib\\site-packages)\n",
      "WARNING: Ignoring invalid distribution -rotobuf (c:\\users\\201-00\\.conda\\envs\\himedia\\lib\\site-packages)\n",
      "WARNING: Ignoring invalid distribution -rotobuf (c:\\users\\201-00\\.conda\\envs\\himedia\\lib\\site-packages)\n",
      "WARNING: Ignoring invalid distribution -rotobuf (c:\\users\\201-00\\.conda\\envs\\himedia\\lib\\site-packages)\n",
      "WARNING: Ignoring invalid distribution -rotobuf (c:\\users\\201-00\\.conda\\envs\\himedia\\lib\\site-packages)\n"
     ]
    }
   ],
   "source": [
    "!pip install webdriver-manager"
   ]
  },
  {
   "cell_type": "code",
   "execution_count": 4,
   "id": "e28293fe",
   "metadata": {},
   "outputs": [],
   "source": [
    "from selenium import webdriver\n",
    "from webdriver_manager.chrome import ChromeDriverManager\n",
    "from selenium.webdriver.chrome.service import Service"
   ]
  },
  {
   "cell_type": "code",
   "execution_count": 5,
   "id": "39b08e92",
   "metadata": {},
   "outputs": [],
   "source": [
    "def set_chrome_driver(run_as_headless=False): # 크롬 드라이버를 생성하는 함수\n",
    "    chrome_options = webdriver.ChromeOptions()\n",
    "    \n",
    "    # 필요한 경우 옵션을 수정\n",
    "    if run_as_headless:\n",
    "        chrome_options.add_argument(\"--headless\") # 헤드리스 모드로 실행\n",
    "    \n",
    "    driver = webdriver.Chrome(service=Service(ChromeDriverManager().install()),\n",
    "                             options=chrome_options)\n",
    "    return driver"
   ]
  },
  {
   "cell_type": "markdown",
   "id": "da731af2",
   "metadata": {},
   "source": [
    "### 시나리오 \n",
    "1. www.naver.com에 접속\n",
    "2. 검색 창에 검색어 입력\n",
    "3. 검색 버튼 클릭"
   ]
  },
  {
   "cell_type": "code",
   "execution_count": 10,
   "id": "f306c1d2",
   "metadata": {},
   "outputs": [
    {
     "data": {
      "text/plain": [
       "'<html lang=\"ko\"><head> <meta charset=\"utf-8\"> <meta name=\"referrer\" content=\"always\">  <meta name=\"format-detection\" content=\"telephone=no,address=no,email=no\"> <meta property=\"og:title\" content=\"IPHONE : 네이버 검색\"> <meta property=\"og:image\" content=\"https://ssl.pstatic.net/sstatic/search/common/og_v3.png\"> <meta property=\"og:description\" content=\"\\'IPHONE\\'의 네이버 검색 결과입니다.\"> <meta name=\"description\" lang=\"ko\" content=\"\\'IPHONE\\'의 네이버 검색 결과입니다.\"> <title>IPHONE : 네이버 검색</title> <link rel=\"shortcut icon\" href=\"https://ssl.pstatic.net/sstatic/search/favicon/favicon_32x32_240820.ico\">  <link rel=\"search\" type=\"application/opensearchdescription+xml\" href=\"https://ssl.pstatic.net/sstatic/search/opensearch-description.https.xml\" title=\"Naver\"><link rel=\"stylesheet\" type=\"text/css\" href=\"https://ssl.pstatic.net/sstatic/search/pc/css/search1_240822.css\"> <link rel=\"stylesheet\" type=\"text/css\" href=\"https://ssl.pstatic.net/sstatic/search/pc/css/search2_240822.css\"> <link rel=\"stylesheet\" type=\"text/css\" href=\"https://ssl.pstatic.net/sstatic/search/pc/css/sp_autocomplete_240801.css\"><script> naver = window.naver || {}; naver.search = naver.search || {}; naver.search.abt_param = \"&abt=%5B%7B%22eid%22%3A%22NCO-TRIPINS%22%2C%22vid%22%3A%2210%22%7D%2C%7B%22eid%22%3A%22SHP-SUPER-ITEM%22%2C%22vid%22%3A%2215%22%7D%2C%7B%22eid%22%3A%22WEB-RANKING-MODELING%22%2C%22vid%22%3A%2221%22%7D%5D\"; </script></head></html>'"
      ]
     },
     "execution_count": 10,
     "metadata": {},
     "output_type": "execute_result"
    }
   ],
   "source": [
    "from selenium.webdriver.common.by import By\n",
    "# 드라이버 얻어내기\n",
    "driver = set_chrome_driver()\n",
    "# www.naver.com에 접속\n",
    "driver.get(\"https://www.naver.com\")\n",
    "\n",
    "# 검색어 입력 : #query인 input 상자에 키워드 입력\n",
    "input_search = driver.find_element(By.ID, \"query\")\n",
    "input_search.send_keys(\"IPHONE\")\n",
    "\n",
    "# 검색 수행 : .btn_search를 click\n",
    "btn_search = driver.find_element(By.CLASS_NAME, \"btn_search\")\n",
    "btn_search.click()\n",
    "\n",
    "# 검색을 수행한 페이지 소스\n",
    "driver.page_source"
   ]
  },
  {
   "cell_type": "markdown",
   "id": "c5cda64f",
   "metadata": {},
   "source": [
    "### 시나리오 2\n",
    "1. www.naver.com에 접속\n",
    "2. 로그인 버튼 클릭\n",
    "3. 아이디 입력창에 아이디 입력\n",
    "4. 비밀번호 입력창에 비밀번호 입력\n",
    "5. 로그인 버튼 클릭"
   ]
  },
  {
   "cell_type": "code",
   "execution_count": 13,
   "id": "0693522b",
   "metadata": {},
   "outputs": [],
   "source": [
    "# 로그인 버튼의 XPath : //*[@id=\"account\"]/div/a\n",
    "# 크롬 브라우저 실행\n",
    "driver = set_chrome_driver()\n",
    "# naver.com에 접속\n",
    "driver.get(\"https://www.naver.com\")\n",
    "\n",
    "# 잠시만 기다립시다\n",
    "# driver.implicitly_wait(3) \n",
    "\n",
    "# 로그인 버튼 누르기\n",
    "btn_login = driver.find_element(By.XPATH, \"//*[@id=\\\"account\\\"]/div/a\")\n",
    "btn_login.click()\n",
    "\n",
    "# -> 로그인 페이지로 이동\n",
    "\n",
    "# 아이디 필드 채우기\n",
    "input_id = driver.find_element(By.ID, \"id\")\n",
    "input_id.send_keys(\"litmuscube\")\n",
    "# 비밀번호 필드 채우기\n",
    "input_pw = driver.find_element(By.ID, \"pw\")\n",
    "input_pw.send_keys(\"unknown\")\n",
    "# 로그인 버튼 누르기\n",
    "btn_login = driver.find_element(By.CLASS_NAME, \"btn_login\")\n",
    "# btn_login.click()"
   ]
  },
  {
   "cell_type": "code",
   "execution_count": null,
   "id": "8d92cc69",
   "metadata": {},
   "outputs": [],
   "source": []
  }
 ],
 "metadata": {
  "kernelspec": {
   "display_name": "Python 3 (ipykernel)",
   "language": "python",
   "name": "python3"
  },
  "language_info": {
   "codemirror_mode": {
    "name": "ipython",
    "version": 3
   },
   "file_extension": ".py",
   "mimetype": "text/x-python",
   "name": "python",
   "nbconvert_exporter": "python",
   "pygments_lexer": "ipython3",
   "version": "3.10.9"
  }
 },
 "nbformat": 4,
 "nbformat_minor": 5
}
